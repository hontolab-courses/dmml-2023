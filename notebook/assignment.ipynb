{
 "cells": [
  {
   "cell_type": "markdown",
   "id": "894cf21b-7bb7-4aee-a877-f3d1bf611e01",
   "metadata": {},
   "source": [
    "# データマイニングと機械学習 山本担当パート レポート課題"
   ]
  },
  {
   "cell_type": "markdown",
   "id": "b1eb64c9-d7ae-4832-840c-d85dfb7363a2",
   "metadata": {},
   "source": [
    "下記4問（+加点問題）について，〆切までに回答を作成し提出すること．問1〜問4は回答が必須で，合計50点である．加点問題はオプション課題で，回答があった場合は採点対象とし最大10点を加点する．問1〜問4と加点問題の合計点が50点を超えた場合は，レポート得点を50点とする．回答は[こちらで指定したテンプレートファイル](https://github.com/hontolab-courses/dmml-2022/raw/main/report-template.docx)を用いること．\n",
    "\n",
    "* 〆切：2022年7月1日（金）\n",
    "* 提出先：学務情報システム\n",
    "* 提出形式：PDFファイル（必ずWordファイルをPDF化すること）\n",
    "---"
   ]
  },
  {
   "cell_type": "markdown",
   "id": "d260605b-81ee-420b-85f9-6bc1026db4fa",
   "metadata": {
    "tags": []
   },
   "source": [
    "## 問1: 階層的クラスタリング（10点）\n",
    "以下の実数リストについて，最長距離法と最短距離法を用いて階層的クラスタリングを行い，そのデンドログラムを作成しなさい．\n",
    "\n",
    "`1, 4, 9, 16, 25, 36, 49, 64, 81`\n",
    "\n",
    "なお，任意の実数x, y間の距離dは$d=|x-y|$とする．また，本問は **必ず手計算で解くこと**．解答用紙には，距離行列（すべての要素間の距離）を記すこと．\n",
    "\n",
    "\n"
   ]
  },
  {
   "cell_type": "markdown",
   "id": "6bfe6181-792d-4976-94bd-0d845e2872d6",
   "metadata": {},
   "source": [
    "## 問2: K-means（15点）\n",
    "以下の1次元データ集合をK-meansを使って3つのクラスタに分割することを考える：\n",
    "\n",
    "`1, 2, 3, 4, 5, 8, 9, 10, 11, 12, 24, 28, 32, 36, 40`\n",
    "\n",
    "K-meansは，初期クラスタの選び方によってクラスタリングの結果が変わる．上記データ集合に対してK-meansを適用する際，初期クラスタとして（1, 2, 3）を選んだ場合と（1, 11, 28）を選んだ場合のクラスタリング結果を比較しなさい．また，どのようなデータを初期クラスタとして選ぶと， 直感的に妥当なクラスタがK-meansで得られるかを考察しなさい．"
   ]
  },
  {
   "cell_type": "markdown",
   "id": "d656f671-e7a9-401a-a226-c9439e7fc96d",
   "metadata": {},
   "source": [
    "## 問3: パーセプトロン（10点）\n",
    "下記の表は，\n",
    "* メールm1〜m6が迷惑メールであるか（y=+1），そうでないか（y=-1）\n",
    "* 各メールに5種類の単語`and`, `viagra`, `the`, `of`, `nigeria`を含んでいるか（x=1）あるいは含んでいないか（x=0）\n",
    "\n",
    "を記したものである．\n",
    "\n",
    "|　 |  and  |  viagra | the | of | nigeria | y |\n",
    "| ---- | ---- | ---- | ---- | ---- | ---- | ---- |\n",
    "| m1 | 1 | 1 | 0 | 1 | 1 |  +1 |\n",
    "| m2 | 0 | 0 | 1 | 1 | 1 |  -1 |\n",
    "| m3 | 0 | 1 | 1 | 0 | 0 |  +1 |\n",
    "| m4 | 1 | 0 | 0 | 1 | 0 |  -1 |\n",
    "| m5 | 1 | 0 | 1 | 0 | 1 |  +1 |\n",
    "| m6 | 1 | 0 | 1 | 1 | 0 |  -1 |\n",
    "\n",
    "\n",
    "この表のデータをもとに，迷惑メールを判定する単純パーセプトロンを構築したい．すなわち，\n",
    "\n",
    "$$\n",
    "\\begin{align}\n",
    "f(\\boldsymbol{x}) &= w_{and} x_{and} + w_{viagra} x_{viagra} + w_{the} x_{the} + w_{of} x_{of} + w_{nigeria} x_{nigeria} \\\\\n",
    "                  &= \\sum_i w_i x_i \\\\\n",
    "                  &=\\boldsymbol{w}^T \\boldsymbol{x}\n",
    "\\end{align}\n",
    "$$\n",
    "\n",
    "$$\n",
    "y = \\begin{cases}\n",
    "1 & f(\\boldsymbol{x}) > 0 \\\\\n",
    "-1 & f(\\boldsymbol{x}) \\leq 0\n",
    "\\end{cases}\n",
    "$$\n",
    "\n",
    "\n",
    "となるような関数群を構築することを考える（関数$f$の切片はなし）．\n",
    "\n",
    "パーセプトロンの（単語に対する）重みの初期値を$\\boldsymbol{w}=(0, 0, 0, 0, 0)$としたとき，パーセプトロンの学習則（学習率0.5）を用いて最適な重みを手計算しなさい．なお，レポートには重みの更新過程も記すこと．\n",
    "\n"
   ]
  },
  {
   "cell_type": "markdown",
   "id": "8bd6e076-c874-4d35-a147-7e4cacdcd567",
   "metadata": {},
   "source": [
    "## 問4: 分類器の評価指標（15点）\n",
    "#### 問4-1\n",
    "疾病Xは致死率の高い病気とする．疾病Xの罹患の有無を推定する機械学習モデルを構築したとき，このモデルの評価指標として適合率（precision）と再現率（recall）のどちらを優先すべきか，理由とともに述べなさい．\n",
    "\n",
    "#### 問4-2\n",
    "2値（クラス）分類問題を解く機械学習モデルを構築した際に，精度（accuracy）を用いるとモデルの性能評価を適切に行えないケースがある．そのようなケースの具体例を示しなさい．\n",
    "\n",
    "---"
   ]
  },
  {
   "cell_type": "markdown",
   "id": "2e875149-3344-4733-93d3-4131b8083ec8",
   "metadata": {},
   "source": [
    "## 加点問題: 勾配法（+10点）\n",
    "[「第7回: ニューラルネットワーク入門」Hands-onの例題2](https://nbviewer.org/github/hontolab-courses/dmml-2022/blob/main/notebook/neural-network.ipynb)における最急降下法のコードを修正して，確率的勾配降下法を実装しなさい．また，実装した確率的勾配降下法を同じデータ（[例題2のデータ](https://nbviewer.org/github/hontolab-courses/dmml-2022/blob/main/notebook/neural-network.ipynb)）に適用して，最適なパラメータを推定するPythonコードを記しなさい．"
   ]
  }
 ],
 "metadata": {
  "kernelspec": {
   "display_name": "Python 3 (ipykernel)",
   "language": "python",
   "name": "python3"
  },
  "language_info": {
   "codemirror_mode": {
    "name": "ipython",
    "version": 3
   },
   "file_extension": ".py",
   "mimetype": "text/x-python",
   "name": "python",
   "nbconvert_exporter": "python",
   "pygments_lexer": "ipython3",
   "version": "3.9.8"
  }
 },
 "nbformat": 4,
 "nbformat_minor": 5
}
